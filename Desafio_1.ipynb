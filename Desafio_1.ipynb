{
 "cells": [
  {
   "cell_type": "markdown",
   "id": "46a88b6c-6183-45a4-a6c3-6c689e36c288",
   "metadata": {},
   "source": [
    "## Cinética Química - Introdução"
   ]
  },
  {
   "cell_type": "code",
   "execution_count": 3,
   "id": "35403201-7846-4dd8-8a7a-804c861454c7",
   "metadata": {},
   "outputs": [],
   "source": [
    "#falar sobre a definição de cinética química, objetivos da matéria e nosso propósito com ela"
   ]
  },
  {
   "cell_type": "code",
   "execution_count": null,
   "id": "b0941978-cbb7-47fa-8e13-ebd75e67b3be",
   "metadata": {},
   "outputs": [],
   "source": []
  },
  {
   "cell_type": "markdown",
   "id": "f2a614e3-44b7-4811-b829-6ca80dab1cf0",
   "metadata": {},
   "source": [
    "## Descrição do movimento de partículas"
   ]
  },
  {
   "cell_type": "code",
   "execution_count": null,
   "id": "f449f0a1-ce1c-4e3c-ab27-8cdefb15f2c9",
   "metadata": {},
   "outputs": [],
   "source": []
  }
 ],
 "metadata": {
  "kernelspec": {
   "display_name": "ilumpy",
   "language": "python",
   "name": "ilumpy"
  },
  "language_info": {
   "codemirror_mode": {
    "name": "ipython",
    "version": 3
   },
   "file_extension": ".py",
   "mimetype": "text/x-python",
   "name": "python",
   "nbconvert_exporter": "python",
   "pygments_lexer": "ipython3",
   "version": "3.9.7"
  }
 },
 "nbformat": 4,
 "nbformat_minor": 5
}
