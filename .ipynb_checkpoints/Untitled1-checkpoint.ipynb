{
 "cells": [
  {
   "cell_type": "code",
   "execution_count": null,
   "id": "b72b482f-41a4-42e0-b049-9545d1f8061b",
   "metadata": {},
   "outputs": [],
   "source": [
    "# Configurações\n",
    "WIDTH, HEIGHT = 800, 600\n",
    "BACKGROUND_COLOR = (255, 255, 255)\n",
    "BALL_RADIUS = 10\n",
    "MASS = 1.0\n",
    "TEMPERATURE = 300  # Em Kelvin\n",
    "BALL_COLOR = (0, 0, 255)\n",
    "NUM_BALLS = 2 # Número total de bolinhas na simulação"
   ]
  },
  {
   "cell_type": "code",
   "execution_count": null,
   "id": "1d046f88-753e-4d12-8db7-8037378a39b9",
   "metadata": {},
   "outputs": [],
   "source": [
    "# Função para amostrar velocidades da distribuição de Maxwell-Boltzmann\n",
    "def maxwell_boltzmann_speed():\n",
    "    v = 1/4 * math.sqrt(-2 * (TEMPERATURE / MASS) * math.log(random.uniform(0, 1)))\n",
    "    return v"
   ]
  }
 ],
 "metadata": {
  "kernelspec": {
   "display_name": "ilumpy",
   "language": "python",
   "name": "ilumpy"
  },
  "language_info": {
   "codemirror_mode": {
    "name": "ipython",
    "version": 3
   },
   "file_extension": ".py",
   "mimetype": "text/x-python",
   "name": "python",
   "nbconvert_exporter": "python",
   "pygments_lexer": "ipython3",
   "version": "3.9.13"
  }
 },
 "nbformat": 4,
 "nbformat_minor": 5
}
