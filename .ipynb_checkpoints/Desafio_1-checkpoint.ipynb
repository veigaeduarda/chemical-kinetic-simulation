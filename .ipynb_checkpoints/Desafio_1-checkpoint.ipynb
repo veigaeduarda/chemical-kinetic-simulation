{
 "cells": [
  {
   "cell_type": "markdown",
   "id": "46a88b6c-6183-45a4-a6c3-6c689e36c288",
   "metadata": {},
   "source": [
    "# <font color = magenta> **Simulação Inicial de Cinética Química - Introdução**"
   ]
  },
  {
   "cell_type": "markdown",
   "id": "27e2b1ca-8725-4324-be58-db7cf7e4dff8",
   "metadata": {},
   "source": []
  },
  {
   "cell_type": "code",
   "execution_count": 1,
   "id": "35403201-7846-4dd8-8a7a-804c861454c7",
   "metadata": {},
   "outputs": [],
   "source": [
    "#Descrever a física das bolinhas e das movimentações, a fundamentação teórica da simulação. \n",
    "# (se possível, usar refefrências do livro que o professor indicou)"
   ]
  },
  {
   "cell_type": "markdown",
   "id": "f2a614e3-44b7-4811-b829-6ca80dab1cf0",
   "metadata": {},
   "source": [
    "## Descrição do movimento de partículas"
   ]
  },
  {
   "cell_type": "code",
   "execution_count": 2,
   "id": "f449f0a1-ce1c-4e3c-ab27-8cdefb15f2c9",
   "metadata": {},
   "outputs": [
    {
     "data": {
      "image/png": "[encoded data removed]",
      "text/plain": [
       "<Figure size 864x360 with 2 Axes>"
      ]
     },
     "metadata": {
      "needs_background": "light"
     },
     "output_type": "display_data"
    }
   ],
   "source": [
    "import matplotlib.pyplot as plt\n",
    "import numpy as np\n",
    "\n",
    "# Parâmetros do movimento\n",
    "posicao_inicial = 0.0  # Posição inicial da partícula\n",
    "velocidade_inicial = 1.0  # Velocidade inicial da partícula\n",
    "aceleracao = 0.5  # Aceleração da partícula\n",
    "\n",
    "# Tempo\n",
    "tempo_inicial = 0.0\n",
    "tempo_final = 10.0\n",
    "passo_tempo = 0.1\n",
    "num_pontos = int((tempo_final - tempo_inicial) / passo_tempo) + 1\n",
    "\n",
    "# Arrays para armazenar os valores ao longo do tempo\n",
    "tempos = np.linspace(tempo_inicial, tempo_final, num_pontos)\n",
    "posicoes = np.zeros(num_pontos)\n",
    "velocidades = np.zeros(num_pontos)\n",
    "\n",
    "# Inicialização das condições iniciais\n",
    "posicoes[0] = posicao_inicial\n",
    "velocidades[0] = velocidade_inicial\n",
    "\n",
    "# Simulação do movimento\n",
    "for i in range(1, num_pontos):\n",
    "    posicoes[i] = posicoes[i - 1] + velocidades[i - 1] * passo_tempo\n",
    "    velocidades[i] = velocidades[i - 1] + aceleracao * passo_tempo\n",
    "\n",
    "# Plot dos resultados\n",
    "fig, axes = plt.subplots(nrows=1, ncols=2, figsize=(12, 5))\n",
    "\n",
    "# Posição\n",
    "axes[0].plot(tempos, posicoes, label='Posição', color='magenta')\n",
    "axes[0].set_xlabel('Tempo')\n",
    "axes[0].set_ylabel('Posição')\n",
    "axes[0].set_title('Movimento de uma Partícula')\n",
    "axes[0].legend()\n",
    "axes[0].grid(True)\n",
    "\n",
    "# Velocidade\n",
    "axes[1].plot(tempos, velocidades, label='Velocidade')\n",
    "axes[1].set_xlabel('Tempo')\n",
    "axes[1].set_ylabel('Velocidade')\n",
    "axes[1].set_title('Velocidade de uma Partícula')\n",
    "axes[1].legend()\n",
    "axes[1].grid(True)\n",
    "\n",
    "plt.tight_layout()\n",
    "plt.show()"
   ]
  },
  {
   "cell_type": "markdown",
   "id": "8db2fb58-0278-4e81-9653-1a8582f49acb",
   "metadata": {},
   "source": [
    "Neste código, a partícula está se movendo em uma dimensão com uma aceleração constante. A equação da cinemática utilizada é:\n",
    "\n",
    "**Posição = Posição Inicial + Velocidade Inicial * Tempo + 0.5 * Aceleração * Tempo^2**\n",
    "\n",
    "A velocidade é atualizada a cada passo de tempo de acordo com a aceleração:\n",
    "\n",
    "**Nova Velocidade = Velocidade Antiga + Aceleração * Passo de Tempo**"
   ]
  },
  {
   "cell_type": "markdown",
   "id": "eb3e367f-cb4c-4578-b11f-befa23f20d37",
   "metadata": {},
   "source": [
    "## Instalações"
   ]
  },
  {
   "cell_type": "code",
   "execution_count": 3,
   "id": "9dd761d0-ba73-43f3-aed0-071eda7ff51d",
   "metadata": {},
   "outputs": [
    {
     "name": "stdout",
     "output_type": "stream",
     "text": [
      "Requirement already satisfied: pygame in c:\\venv\\ilumpy\\lib\\site-packages (2.5.1)Note: you may need to restart the kernel to use updated packages.\n",
      "\n"
     ]
    },
    {
     "name": "stderr",
     "output_type": "stream",
     "text": [
      "\n",
      "[notice] A new release of pip is available: 23.1.2 -> 23.2.1\n",
      "[notice] To update, run: c:\\venv\\ilumpy\\Scripts\\python.exe -m pip install --upgrade pip\n"
     ]
    }
   ],
   "source": [
    "pip install pygame"
   ]
  },
  {
   "cell_type": "markdown",
   "id": "e70a0fe7-b301-4e64-bdd4-db7f684df097",
   "metadata": {
    "jp-MarkdownHeadingCollapsed": true,
    "tags": []
   },
   "source": [
    "## ``Movimentação das Partículas em 2D``"
   ]
  },
  {
   "cell_type": "markdown",
   "id": "be699bb4-d606-40c1-9743-cbf073735cf1",
   "metadata": {},
   "source": [
    "## Importações"
   ]
  },
  {
   "cell_type": "code",
   "execution_count": 4,
   "id": "fe5a1fa9-f742-410e-9a97-627300274c80",
   "metadata": {
    "tags": []
   },
   "outputs": [
    {
     "name": "stdout",
     "output_type": "stream",
     "text": [
      "pygame 2.5.1 (SDL 2.28.2, Python 3.9.7)\n",
      "Hello from the pygame community. https://www.pygame.org/contribute.html\n"
     ]
    }
   ],
   "source": [
    "import pygame\n",
    "import random\n",
    "import math"
   ]
  },
  {
   "cell_type": "markdown",
   "id": "7cfa1b35-d193-4173-af60-6c518de9dd2a",
   "metadata": {},
   "source": [
    "# Código"
   ]
  },
  {
   "cell_type": "markdown",
   "id": "11983b23-1361-412a-9067-3b692c91c239",
   "metadata": {},
   "source": [
    "## Variáveis\n",
    "\n",
    "Aqui estamos definindo várias configurações iniciais para a simulação, incluindo as dimensões da janela, a cor de fundo, o raio das bolinhas, a massa das bolinhas, a m para a distribuição de Maxwell-Boltzmann, a cor padrão das bolinhas e o número total de bolinhas na simulação"
   ]
  },
  {
   "cell_type": "code",
   "execution_count": 5,
   "id": "1a591b2a-f29c-4df3-ad15-182e48a4f878",
   "metadata": {},
   "outputs": [],
   "source": [
    "# Configurações\n",
    "WIDTH, HEIGHT = 800, 600\n",
    "BACKGROUND_COLOR = (255, 255, 255)\n",
    "BALL_RADIUS = 10\n",
    "MASS = 1.0\n",
    "TEMPERATURE = 300  # Em Kelvin\n",
    "BALL_COLOR = (0, 0, 255)\n",
    "NUM_BALLS = 10 # Número total de bolinhas na simulação"
   ]
  },
  {
   "cell_type": "markdown",
   "id": "a4523486-eb65-4a4c-ae14-b677b17061f8",
   "metadata": {},
   "source": [
    "## Velocidade\n",
    "\n",
    "Esta função, maxwell_boltzmann_speed(), implementa a amostragem de velocidades da distribuição de Maxwell-Boltzmann. Ela utiliza a fórmula da distribuição para gerar velocidades aleatórias seguindo essa distribuição."
   ]
  },
  {
   "cell_type": "code",
   "execution_count": 6,
   "id": "48b655a6-b16c-4eb1-8f92-8866ad081847",
   "metadata": {},
   "outputs": [],
   "source": [
    "# Função para amostrar velocidades da distribuição de Maxwell-Boltzmann\n",
    "def maxwell_boltzmann_speed():\n",
    "    v = 1/4 * math.sqrt(-2 * (TEMPERATURE / MASS) * math.log(random.uniform(0, 1)))\n",
    "    return v"
   ]
  },
  {
   "cell_type": "markdown",
   "id": "7b19eaf6-713f-4d0d-a2ed-6f673ad18b07",
   "metadata": {},
   "source": [
    "## Colisões\n",
    "\n",
    "Aqui temos a função elastic_collision(ball1, ball2) que calcula a colisão elástica entre duas bolinhas, ball1 e ball2. Ela verifica se a distância entre as bolinhas é menor ou igual a duas vezes o raio das bolinhas, indicando uma colisão. Se houver colisão, os ângulos de colisão e as velocidades são usados para calcular as novas velocidades após a colisão elástica."
   ]
  },
  {
   "cell_type": "code",
   "execution_count": 7,
   "id": "685517ec-1083-4ea8-9ace-dd6dff019d27",
   "metadata": {},
   "outputs": [],
   "source": [
    "# Função para calcular a colisão elástica entre duas esferas\n",
    "def elastic_collision(ball1, ball2):\n",
    "    dx = ball2.x - ball1.x\n",
    "    dy = ball2.y - ball1.y\n",
    "    distance = math.sqrt(dx ** 2 + dy ** 2)\n",
    "    \n",
    "    if distance <= 2 * BALL_RADIUS:\n",
    "        angle = math.atan2(dy, dx)\n",
    "        v1 = math.sqrt(ball1.vx ** 2 + ball1.vy ** 2)\n",
    "        v2 = math.sqrt(ball2.vx ** 2 + ball2.vy ** 2)\n",
    "        phi = math.atan2(ball2.y - ball1.y, ball2.x - ball1.x)\n",
    "\n",
    "        # Cálculo das novas velocidades após a colisão elástica\n",
    "        ball1.vx = v2 * math.cos(angle - phi)\n",
    "        ball1.vy = v2 * math.sin(angle - phi)\n",
    "        ball2.vx = v1 * math.cos(angle - phi + math.pi)\n",
    "        ball2.vy = v1 * math.sin(angle - phi + math.pi)"
   ]
  },
  {
   "cell_type": "markdown",
   "id": "a1040da1-8462-4fe5-bcb6-ef9caff3a4c2",
   "metadata": {},
   "source": [
    "## Pygame\n",
    "\n",
    "Essas linhas inicializam o Pygame, criam uma janela de exibição com as dimensões especificadas e definem o título da janela."
   ]
  },
  {
   "cell_type": "code",
   "execution_count": 8,
   "id": "c20490a6-f31b-4a0b-9619-ee88e7f8a5a6",
   "metadata": {},
   "outputs": [],
   "source": [
    "# Inicialização do Pygame\n",
    "pygame.init()\n",
    "screen = pygame.display.set_mode((WIDTH, HEIGHT))\n",
    "pygame.display.set_caption(\"Simulação de Distribuição de Maxwell-Boltzmann\")"
   ]
  },
  {
   "cell_type": "markdown",
   "id": "3242683c-ff21-4c5b-8393-47d10f4b5491",
   "metadata": {},
   "source": [
    "##  Classes \n",
    "\n",
    "Aqui definimos a classe Ball para representar as bolinhas na simulação. No método __init__, definimos as posições iniciais, velocidades aleatórias usando a função maxwell_boltzmann_speed(), e a cor das bolinhas. Os métodos update() e draw() são responsáveis por atualizar a posição das bolinhas e desenhá-las na tela."
   ]
  },
  {
   "cell_type": "code",
   "execution_count": 9,
   "id": "b163dfef-8ecc-4e30-92ee-4bee24e73e5e",
   "metadata": {},
   "outputs": [],
   "source": [
    "# Classe para representar as bolinhas\n",
    "class Ball:\n",
    "    def __init__(self, x, y, color):\n",
    "        self.x = x\n",
    "        self.y = y\n",
    "        self.vx = maxwell_boltzmann_speed()\n",
    "        self.vy = maxwell_boltzmann_speed()\n",
    "        self.color = color\n",
    "\n",
    "    def update(self):\n",
    "        self.x += self.vx\n",
    "        self.y += self.vy\n",
    "\n",
    "        if self.x < BALL_RADIUS or self.x > WIDTH - BALL_RADIUS:\n",
    "            self.vx *= -1\n",
    "        if self.y < BALL_RADIUS or self.y > HEIGHT - BALL_RADIUS:\n",
    "            self.vy *= -1\n",
    "\n",
    "    def draw(self):\n",
    "        pygame.draw.circle(screen, self.color, (int(self.x), int(self.y)), BALL_RADIUS)\n"
   ]
  },
  {
   "cell_type": "markdown",
   "id": "65721069-c734-4aba-b56c-e18c202a633c",
   "metadata": {},
   "source": [
    "## Bolinhas\n",
    "\n",
    "Aqui criamos uma lista balls contendo duas bolinhas iniciais, uma azul (BALL_COLOR) e uma vermelha (255, 0, 0)."
   ]
  },
  {
   "cell_type": "code",
   "execution_count": 10,
   "id": "693b49ce-2c67-47df-82de-3e92c40155d3",
   "metadata": {},
   "outputs": [],
   "source": [
    "# Lista para armazenar as bolinhas\n",
    "balls = [Ball(WIDTH * 0.4, HEIGHT * 0.5, BALL_COLOR),\n",
    "         Ball(WIDTH * 0.6, HEIGHT * 0.5, (255, 0, 0))]  # Definindo cores diferentes para as duas bolinhas iniciais\n"
   ]
  },
  {
   "cell_type": "markdown",
   "id": "f5554054-d216-4b90-81d2-e0430bb9ebd6",
   "metadata": {},
   "source": [
    "Aqui, o ``loop for`` cria mais bolinhas para a simulação. Metade dessas bolinhas terá a cor vermelha e a outra metade terá a cor azul. Isso é feito usando a variável color e a lógica condicional."
   ]
  },
  {
   "cell_type": "code",
   "execution_count": 11,
   "id": "9bd4b24e-282a-4dd8-988e-e950c39b8b76",
   "metadata": {},
   "outputs": [],
   "source": [
    "# Adicionando mais bolinhas\n",
    "for i in range(NUM_BALLS - 2):\n",
    "    if i < (NUM_BALLS - 2) // 2:\n",
    "        color = (255, 0, 0)  # Cor vermelha\n",
    "    else:\n",
    "        color = BALL_COLOR  # Cor azul\n",
    "\n",
    "    balls.append(Ball(random.randint(BALL_RADIUS, WIDTH - BALL_RADIUS),\n",
    "                      random.randint(BALL_RADIUS, HEIGHT - BALL_RADIUS),\n",
    "                      color))"
   ]
  },
  {
   "cell_type": "markdown",
   "id": "bdd0a9ae-e8a2-41e9-a6b6-1da819148860",
   "metadata": {},
   "source": [
    "Para finalizar o código, essa parte controla o loop principal da simulação, onde as bolinhas são atualizadas, desenhadas na tela e as colisões elásticas são tratadas."
   ]
  },
  {
   "cell_type": "code",
   "execution_count": 12,
   "id": "90c50a17-597f-49b4-b82d-32239c023674",
   "metadata": {},
   "outputs": [],
   "source": [
    "# Loop principal\n",
    "running = True\n",
    "clock = pygame.time.Clock()\n",
    "\n",
    "while running:\n",
    "    for event in pygame.event.get():\n",
    "        if event.type == pygame.QUIT:\n",
    "            running = False\n",
    "\n",
    "    screen.fill(BACKGROUND_COLOR)\n",
    "\n",
    "    for ball in balls:\n",
    "        ball.update()\n",
    "        ball.draw()\n",
    "\n",
    "    # Detecção de colisão e colisões elásticas\n",
    "    for i in range(len(balls)):\n",
    "        for j in range(i + 1, len(balls)):\n",
    "            elastic_collision(balls[i], balls[j])\n",
    "\n",
    "    pygame.display.flip()\n",
    "    clock.tick(60)\n",
    "\n",
    "pygame.quit()"
   ]
  },
  {
   "cell_type": "markdown",
   "id": "6447e7e7-1793-457a-a23d-21e02f66fda4",
   "metadata": {},
   "source": [
    "## Descrevendo o movimento de Colisão presente no código "
   ]
  },
  {
   "cell_type": "markdown",
   "id": "b892c49e-0f7c-4b26-bba9-ea2d778dc4c3",
   "metadata": {},
   "source": [
    "Quando duas bolinhas colidem em uma simulação, é importante __preservar a conservação da energia cinética e do momento linear__, que são princípios fundamentais na física. Isso significa que, após a colisão, a soma das energias cinéticas das bolinhas deve ser a mesma, assim como a soma dos momentos lineares.\n",
    "\n",
    "``Conservação da Energia Cinética``  $\\frac{1}{2} m_1 v_1^2 + \\frac{1}{2} m_2 v_2^2 = \\frac{1}{2} m_1 {v'}_1^2 + \\frac{1}{2} m_2 {v'}_2^2 $\n",
    "\n",
    "``Conservação do Momento Linear`` $m_1 v_1 + m_2 v_2 = m_1 {v'}_1 + m_2 {v'}_2 $\n",
    "\n",
    "\n",
    "A abordagem de colisões elásticas assume que a energia total (cinética e potencial) das partículas se conserva durante a colisão. Portanto, a colisão é considerada perfeitamente elástica, onde não há perda de energia cinética. Assim, é preciso alguns passos para calcular as novas velocidades após uma colisão elástica:\n",
    "\n",
    "- Determinar a geometria da colisão: Primeiro, é necessário calcular a direção do vetor que conecta o centro de uma bolinha à outra bolinha que está colidindo. Isso é feito usando as coordenadas das bolinhas envolvidas na colisão.\n",
    "\n",
    "- Calcular os ângulos de colisão: Usando a direção do vetor de colisão, podemos calcular o ângulo que esse vetor faz com o eixo x. Isso é importante para determinar a direção das velocidades após a colisão.\n",
    "\n",
    "- Calcular as velocidades escalares iniciais: As velocidades das bolinhas antes da colisão são representadas pelas magnitudes das velocidades (escalares). Isso é calculado usando a fórmula da velocidade, que é a raiz quadrada da soma dos quadrados das velocidades nos eixos x e y.\n",
    "\n",
    "- Calcular o ângulo entre o vetor de colisão e as velocidades iniciais: Esse ângulo, chamado de ângulo de diferença de fase, é calculado a partir das coordenadas das bolinhas envolvidas.\n",
    "\n",
    "- Calcular as novas velocidades: Usando a conservação do momento linear e a conservação da energia cinética, as novas velocidades das bolinhas após a colisão são calculadas. As componentes x e y das velocidades são separadas e atualizadas de acordo com as fórmulas de colisão elástica.\n",
    "\n",
    "As fórmulas usadas para atualizar as velocidades são:"
   ]
  },
  {
   "cell_type": "raw",
   "id": "c803a01d-d312-4558-b702-098c4c7b4ed5",
   "metadata": {},
   "source": [
    "ball1.vx = v2 * math.cos(angle - phi)\n",
    "ball1.vy = v2 * math.sin(angle - phi)\n",
    "ball2.vx = v1 * math.cos(angle - phi + math.pi)\n",
    "ball2.vy = v1 * math.sin(angle - phi + math.pi)"
   ]
  },
  {
   "cell_type": "markdown",
   "id": "d70eb787-703d-46e6-ba19-3fa15c4e34c6",
   "metadata": {},
   "source": [
    "Onde v1 e v2 são as velocidades escalares das duas bolinhas antes da colisão, angle é o ângulo entre a linha de colisão e o eixo x, e phi é o ângulo entre o vetor de colisão e o eixo x. Essas fórmulas derivam da aplicação das equações de conservação de energia cinética e momento linear.\n",
    "\n",
    "``Conclusão da colisão:`` Após calcular as novas velocidades, as bolinhas continuarão se movendo com suas novas velocidades, respeitando as leis da física e a conservação das propriedades mencionadas. É uma maneira simplificada de simular interações de partículas em simulações computacionais."
   ]
  },
  {
   "cell_type": "code",
   "execution_count": 13,
   "id": "278ae4df-b05f-47c3-92a4-008a6cb93368",
   "metadata": {},
   "outputs": [],
   "source": [
    "#melhorar a direção das colisões, que estão só no eixo x"
   ]
  },
  {
   "cell_type": "code",
   "execution_count": null,
   "id": "07f6f314-1e45-49e1-91c1-855bfb9bb7ec",
   "metadata": {},
   "outputs": [],
   "source": []
  }
 ],
 "metadata": {
  "kernelspec": {
   "display_name": "ilumpy",
   "language": "python",
   "name": "ilumpy"
  },
  "language_info": {
   "codemirror_mode": {
    "name": "ipython",
    "version": 3
   },
   "file_extension": ".py",
   "mimetype": "text/x-python",
   "name": "python",
   "nbconvert_exporter": "python",
   "pygments_lexer": "ipython3",
   "version": "3.9.7"
  }
 },
 "nbformat": 4,
 "nbformat_minor": 5
}
