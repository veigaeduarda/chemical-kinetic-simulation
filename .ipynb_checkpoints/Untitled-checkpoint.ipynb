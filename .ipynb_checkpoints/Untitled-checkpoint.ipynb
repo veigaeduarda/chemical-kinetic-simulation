{
 "cells": [
  {
   "cell_type": "code",
   "execution_count": null,
   "id": "570e36b6-7541-4510-8cd6-a5801f7c3916",
   "metadata": {},
   "outputs": [],
   "source": [
    "# Configurações\n",
    "WIDTH, HEIGHT = 800, 600\n",
    "BACKGROUND_COLOR = (255, 255, 255)\n",
    "BALL_RADIUS = 10\n",
    "MASS = 1.0\n",
    "TEMPERATURE = 300  # Em Kelvin\n",
    "BALL_COLOR = (0, 0, 255)\n",
    "NUM_BALLS = 2 # Número total de bolinhas na simulação"
   ]
  },
  {
   "cell_type": "code",
   "execution_count": null,
   "id": "4d21ae26-2529-450d-a740-b04d1f41ae0a",
   "metadata": {},
   "outputs": [],
   "source": [
    "# Função para amostrar velocidades da distribuição de Maxwell-Boltzmann\n",
    "def maxwell_boltzmann_speed():\n",
    "    v = 1/4 * math.sqrt(-2 * (TEMPERATURE / MASS) * math.log(random.uniform(0, 1)))\n",
    "    return v"
   ]
  },
  {
   "cell_type": "markdown",
   "id": "85e1e8a7-7b2d-490e-81cf-b17679721534",
   "metadata": {},
   "source": [
    "<hr>"
   ]
  },
  {
   "cell_type": "code",
   "execution_count": 1,
   "id": "3fd84c0b-ad8d-4894-a4b5-1020b0903e11",
   "metadata": {},
   "outputs": [
    {
     "name": "stdout",
     "output_type": "stream",
     "text": [
      "pygame 2.5.1 (SDL 2.28.2, Python 3.9.13)\n",
      "Hello from the pygame community. https://www.pygame.org/contribute.html\n"
     ]
    }
   ],
   "source": [
    "import pygame\n",
    "import random\n",
    "import numpy as np\n",
    "from itertools import combinations\n",
    "from math import cos, sin"
   ]
  },
  {
   "cell_type": "code",
   "execution_count": 2,
   "id": "e6997ea4-63ba-4241-be9e-1159c9efd00b",
   "metadata": {
    "tags": []
   },
   "outputs": [],
   "source": [
    "# Classe para representar as bolinhas\n",
    "class Ball:\n",
    "    def __init__(self, x, y, vx, vy, radius=10, styles=None):\n",
    "        self.p = pygame.math.Vector2(x, y)\n",
    "        self.v = pygame.math.Vector2(vx, vy)\n",
    "        self.radius = radius\n",
    "        self.mass = radius**2\n",
    "        \n",
    "        self.styles = styles\n",
    "        if not self.styles:\n",
    "            self.styles = {'color': (0, 0, 255), 'width': 2}\n",
    "        \n",
    "    def overlaps(self, other):\n",
    "        return self.p.distance_to(other.p) < self.radius + other.radius\n",
    "    \n",
    "    def update(self, dt=0.01):\n",
    "        self.p += self.v*dt\n",
    "        \n",
    "    def draw(self, screen):\n",
    "        pygame.draw.circle(screen, self.styles['color'], (int(self.r.x), int(self.r.y)), self.radius, self.styles['width'])"
   ]
  },
  {
   "cell_type": "code",
   "execution_count": 3,
   "id": "008fb2d6-8bfe-41b5-9033-b1a8b665fdaa",
   "metadata": {},
   "outputs": [],
   "source": [
    "def init_position(particles, rad, styles):\n",
    "    x, y = rad + (1 - 2*rad) * random.random(), rad + (1 - 2*rad) * random.random()\n",
    "    vr = 0.1 * (random.random()**0.5) + 0.05\n",
    "    vphi = 2*3.14159 * random.random()\n",
    "    vx, vy = vr * cos(vphi), vr * sin(vphi)\n",
    "    particle = Ball(x, y, vx, vy, rad, styles)\n",
    "    for p2 in particles:\n",
    "        if p2.overlaps(particle):\n",
    "            break\n",
    "    else:\n",
    "        particles.append(particle)\n",
    "        return True\n",
    "    return False"
   ]
  },
  {
   "cell_type": "code",
   "execution_count": 4,
   "id": "b016685b-934d-4292-a08d-cd1e745c6e6f",
   "metadata": {},
   "outputs": [],
   "source": [
    "def init_particles(n, radius, styles=None):\n",
    "    particles = []\n",
    "    for i, rad in enumerate(radius):\n",
    "        while not init_position(particles, rad, styles):\n",
    "            pass\n",
    "    return particles"
   ]
  },
  {
   "cell_type": "code",
   "execution_count": 5,
   "id": "90383af8-2c56-403d-8154-172aa40a0444",
   "metadata": {},
   "outputs": [],
   "source": [
    "def update_velocidades(p1, p2):\n",
    "    m1, m2 = p1.mass, p2.mass\n",
    "    M = m1 + m2\n",
    "    r1, r2 = p1.p, p2.p\n",
    "    d = np.linalg.norm(r1 - r2)**2\n",
    "    v1, v2 = p1.v, p2.v\n",
    "    u1 = v1 - 2*m2 / M * np.dot(v1-v2, r1-r2) / d * (r1 - r2)\n",
    "    u2 = v2 - 2*m1 / M * np.dot(v2-v1, r2-r1) / d * (r2 - r1)\n",
    "    p1.v = u1\n",
    "    p2.v = u2"
   ]
  },
  {
   "cell_type": "code",
   "execution_count": 6,
   "id": "361134c3-dd5f-4881-9d24-6462c8eda557",
   "metadata": {},
   "outputs": [],
   "source": [
    "def apply_forces(particles):\n",
    "    pass"
   ]
  },
  {
   "cell_type": "markdown",
   "id": "1913d43c-5491-47d5-b0e2-6af8e58f9f1b",
   "metadata": {
    "tags": []
   },
   "source": [
    "# Rodando o Pygame"
   ]
  },
  {
   "cell_type": "code",
   "execution_count": 7,
   "id": "ea528453-aa13-4d68-a0e6-a1b87d7cb8e3",
   "metadata": {},
   "outputs": [],
   "source": [
    "# Inicialização do Pygame\n",
    "def inicializa():\n",
    "    pygame.init()\n",
    "    screen = pygame.display.set_mode((800, 600))\n",
    "    pygame.display.set_caption(\"Simulação de Colisão de Parículas\")\n",
    "    return screen"
   ]
  },
  {
   "cell_type": "code",
   "execution_count": 8,
   "id": "ce41a9d6-b52d-4cfa-a3c2-7847cf77345e",
   "metadata": {},
   "outputs": [],
   "source": [
    "# Loop principal\n",
    "def simulacao(screen, particles):\n",
    "    clock = pygame.time.Clock()\n",
    "    running = True\n",
    "\n",
    "    particles = []\n",
    "\n",
    "    while running:\n",
    "        for event in pygame.event.get():\n",
    "            if event.type == pygame.QUIT:\n",
    "                running = False\n",
    "\n",
    "        screen.fill((0, 0, 0))\n",
    "\n",
    "        for particle in particles:\n",
    "            particle.update(dt)\n",
    "            particle.draw(screen)\n",
    "\n",
    "    # Detecção de colisão e colisões elásticas\n",
    "    \n",
    "        for i in range(len(particles)):\n",
    "            for j in range(i + 1, len(particles)):\n",
    "                if particles[i].overlaps(particles[j]):\n",
    "                    update_velocidades(particles[i], particles[j])\n",
    "    \n",
    "        for particle in particles:\n",
    "            if particle.p.x - particle.radius < 0:\n",
    "                particle.p.x = particle.radius\n",
    "                particle.v.x = -particle.v.x\n",
    "            if particle.p.x + particle.radius > 1:\n",
    "                particle.p.x = 1 - particle.radius\n",
    "                particle.v.x = -particle.v.x\n",
    "            if particle.p.y - particle.radius < 0:\n",
    "                particle.p.y = particle.radius\n",
    "                particle.v.y = -particle.v.y\n",
    "            if particle.p.y + particle.radius > 1:\n",
    "                particle.p.y = 1 - particle.radius\n",
    "                particle.v.y = -particle.v.y\n",
    "            \n",
    "        apply_forces(particles)\n",
    "\n",
    "        pygame.display.flip()\n",
    "        clock.tick(60)\n",
    "\n",
    "    pygame.quit()"
   ]
  },
  {
   "cell_type": "code",
   "execution_count": 9,
   "id": "8c013891-c88e-4fe9-9eb6-39991006f38d",
   "metadata": {},
   "outputs": [],
   "source": [
    "if __name__ == '__main__':\n",
    "    nparticles = 20\n",
    "    radii = [random.uniform(0.02, 0.05) for _ in range(nparticles)]\n",
    "    styles = {'color': (0, 0, 255), 'width': 2}\n",
    "    particles = init_particles(nparticles, radii, styles)\n",
    "    screen = inicializa()\n",
    "    simulacao(screen, particles)"
   ]
  },
  {
   "cell_type": "code",
   "execution_count": null,
   "id": "7053a98a-9931-4676-b4d1-a9585a79e610",
   "metadata": {},
   "outputs": [],
   "source": []
  },
  {
   "cell_type": "code",
   "execution_count": null,
   "id": "d8a9931d-cf9d-467c-841d-fa141076c31d",
   "metadata": {},
   "outputs": [],
   "source": []
  }
 ],
 "metadata": {
  "kernelspec": {
   "display_name": "ilumpy",
   "language": "python",
   "name": "ilumpy"
  },
  "language_info": {
   "codemirror_mode": {
    "name": "ipython",
    "version": 3
   },
   "file_extension": ".py",
   "mimetype": "text/x-python",
   "name": "python",
   "nbconvert_exporter": "python",
   "pygments_lexer": "ipython3",
   "version": "3.9.13"
  }
 },
 "nbformat": 4,
 "nbformat_minor": 5
}
